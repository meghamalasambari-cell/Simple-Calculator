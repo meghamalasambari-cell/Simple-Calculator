{
 "cells": [
  {
   "cell_type": "markdown",
   "id": "764509d6-28dc-4389-a098-8e46b6df5202",
   "metadata": {},
   "source": [
    "## 1.Simple Calculator"
   ]
  },
  {
   "cell_type": "code",
   "execution_count": 1,
   "id": "75ce11b1-c65f-4887-8572-deabf84a8547",
   "metadata": {},
   "outputs": [
    {
     "name": "stdout",
     "output_type": "stream",
     "text": [
      "----- Simple Calculator -----\n"
     ]
    },
    {
     "name": "stdin",
     "output_type": "stream",
     "text": [
      "Enter first number:  3\n",
      "Enter second number:  5\n"
     ]
    },
    {
     "name": "stdout",
     "output_type": "stream",
     "text": [
      "Select operation: +  -  *  /\n"
     ]
    },
    {
     "name": "stdin",
     "output_type": "stream",
     "text": [
      "Enter operation:  *\n"
     ]
    },
    {
     "name": "stdout",
     "output_type": "stream",
     "text": [
      "Result: 15.0\n"
     ]
    }
   ],
   "source": [
    "print(\"----- Simple Calculator -----\")\n",
    "\n",
    "# Step 1: Get inputs\n",
    "num1 = float(input(\"Enter first number: \"))\n",
    "num2 = float(input(\"Enter second number: \"))\n",
    "\n",
    "# Step 2: Choose operation\n",
    "print(\"Select operation: +  -  *  /\")\n",
    "op = input(\"Enter operation: \")\n",
    "\n",
    "# Step 3: Logic\n",
    "if op == '+':\n",
    "    result = num1 + num2\n",
    "elif op == '-':\n",
    "    result = num1 - num2\n",
    "elif op == '*':\n",
    "    result = num1 * num2\n",
    "elif op == '/':\n",
    "    if num2 != 0:\n",
    "        result = num1 / num2\n",
    "    else:\n",
    "        result = \"Error! Division by zero.\"\n",
    "else:\n",
    "    result = \"Invalid operation!\"\n",
    "\n",
    "# Step 4: Show result\n",
    "print(\"Result:\", result)\n"
   ]
  },
  {
   "cell_type": "code",
   "execution_count": null,
   "id": "7490c03a-0a76-4a40-ab24-764baf4ac09a",
   "metadata": {},
   "outputs": [],
   "source": []
  }
 ],
 "metadata": {
  "kernelspec": {
   "display_name": "Python [conda env:base] *",
   "language": "python",
   "name": "conda-base-py"
  },
  "language_info": {
   "codemirror_mode": {
    "name": "ipython",
    "version": 3
   },
   "file_extension": ".py",
   "mimetype": "text/x-python",
   "name": "python",
   "nbconvert_exporter": "python",
   "pygments_lexer": "ipython3",
   "version": "3.13.5"
  }
 },
 "nbformat": 4,
 "nbformat_minor": 5
}
